{
  "nbformat": 4,
  "nbformat_minor": 0,
  "metadata": {
    "colab": {
      "provenance": [],
      "authorship_tag": "ABX9TyOJIeComFiwxm4GTbaMy6fj",
      "include_colab_link": true
    },
    "kernelspec": {
      "name": "python3",
      "display_name": "Python 3"
    },
    "language_info": {
      "name": "python"
    }
  },
  "cells": [
    {
      "cell_type": "markdown",
      "metadata": {
        "id": "view-in-github",
        "colab_type": "text"
      },
      "source": [
        "<a href=\"https://colab.research.google.com/github/facundo-arraspide/django-proyecto-final/blob/main/Libreria_python.ipynb\" target=\"_parent\"><img src=\"https://colab.research.google.com/assets/colab-badge.svg\" alt=\"Open In Colab\"/></a>"
      ]
    },
    {
      "cell_type": "code",
      "execution_count": null,
      "metadata": {
        "colab": {
          "base_uri": "https://localhost:8080/"
        },
        "id": "LAdEu9px3xR5",
        "outputId": "fad7ce6a-4b6f-47a2-fcc9-837567c7a1c1"
      },
      "outputs": [
        {
          "output_type": "stream",
          "name": "stdout",
          "text": [
            "Collecting django==4.2\n",
            "  Downloading Django-4.2-py3-none-any.whl.metadata (4.1 kB)\n",
            "Collecting asgiref<4,>=3.6.0 (from django==4.2)\n",
            "  Downloading asgiref-3.9.1-py3-none-any.whl.metadata (9.3 kB)\n",
            "Requirement already satisfied: sqlparse>=0.3.1 in /usr/local/lib/python3.11/dist-packages (from django==4.2) (0.5.3)\n",
            "Downloading Django-4.2-py3-none-any.whl (8.0 MB)\n",
            "\u001b[2K   \u001b[90m━━━━━━━━━━━━━━━━━━━━━━━━━━━━━━━━━━━━━━━━\u001b[0m \u001b[32m8.0/8.0 MB\u001b[0m \u001b[31m51.1 MB/s\u001b[0m eta \u001b[36m0:00:00\u001b[0m\n",
            "\u001b[?25hDownloading asgiref-3.9.1-py3-none-any.whl (23 kB)\n",
            "Installing collected packages: asgiref, django\n",
            "Successfully installed asgiref-3.9.1 django-4.2\n",
            "/content/mi_proyecto\n"
          ]
        }
      ],
      "source": [
        "!pip install django==4.2\n",
        "!django-admin startproject mi_proyecto\n",
        "%cd mi_proyecto\n",
        "!python manage.py startapp mi_app"
      ]
    },
    {
      "cell_type": "code",
      "source": [
        "!pip install pyngrok"
      ],
      "metadata": {
        "colab": {
          "base_uri": "https://localhost:8080/"
        },
        "id": "ix5gLviAPbgG",
        "outputId": "d31b679d-ce44-4f83-f411-a1e390968dfc"
      },
      "execution_count": null,
      "outputs": [
        {
          "output_type": "stream",
          "name": "stdout",
          "text": [
            "Collecting pyngrok\n",
            "  Downloading pyngrok-7.3.0-py3-none-any.whl.metadata (8.1 kB)\n",
            "Requirement already satisfied: PyYAML>=5.1 in /usr/local/lib/python3.11/dist-packages (from pyngrok) (6.0.2)\n",
            "Downloading pyngrok-7.3.0-py3-none-any.whl (25 kB)\n",
            "Installing collected packages: pyngrok\n",
            "Successfully installed pyngrok-7.3.0\n"
          ]
        }
      ]
    },
    {
      "cell_type": "code",
      "source": [
        "!python manage.py migrate"
      ],
      "metadata": {
        "colab": {
          "base_uri": "https://localhost:8080/"
        },
        "collapsed": true,
        "id": "PUA-dmDAPBr-",
        "outputId": "bec9aae3-6d51-4230-b98e-e348db5f78b8"
      },
      "execution_count": null,
      "outputs": [
        {
          "output_type": "stream",
          "name": "stdout",
          "text": [
            "\u001b[36;1mOperations to perform:\u001b[0m\n",
            "\u001b[1m  Apply all migrations: \u001b[0madmin, auth, contenttypes, sessions\n",
            "\u001b[36;1mRunning migrations:\u001b[0m\n",
            "  Applying contenttypes.0001_initial...\u001b[32;1m OK\u001b[0m\n",
            "  Applying auth.0001_initial...\u001b[32;1m OK\u001b[0m\n",
            "  Applying admin.0001_initial...\u001b[32;1m OK\u001b[0m\n",
            "  Applying admin.0002_logentry_remove_auto_add...\u001b[32;1m OK\u001b[0m\n",
            "  Applying admin.0003_logentry_add_action_flag_choices...\u001b[32;1m OK\u001b[0m\n",
            "  Applying contenttypes.0002_remove_content_type_name...\u001b[32;1m OK\u001b[0m\n",
            "  Applying auth.0002_alter_permission_name_max_length...\u001b[32;1m OK\u001b[0m\n",
            "  Applying auth.0003_alter_user_email_max_length...\u001b[32;1m OK\u001b[0m\n",
            "  Applying auth.0004_alter_user_username_opts...\u001b[32;1m OK\u001b[0m\n",
            "  Applying auth.0005_alter_user_last_login_null...\u001b[32;1m OK\u001b[0m\n",
            "  Applying auth.0006_require_contenttypes_0002...\u001b[32;1m OK\u001b[0m\n",
            "  Applying auth.0007_alter_validators_add_error_messages...\u001b[32;1m OK\u001b[0m\n",
            "  Applying auth.0008_alter_user_username_max_length...\u001b[32;1m OK\u001b[0m\n",
            "  Applying auth.0009_alter_user_last_name_max_length...\u001b[32;1m OK\u001b[0m\n",
            "  Applying auth.0010_alter_group_name_max_length...\u001b[32;1m OK\u001b[0m\n",
            "  Applying auth.0011_update_proxy_permissions...\u001b[32;1m OK\u001b[0m\n",
            "  Applying auth.0012_alter_user_first_name_max_length...\u001b[32;1m OK\u001b[0m\n",
            "  Applying sessions.0001_initial...\u001b[32;1m OK\u001b[0m\n"
          ]
        }
      ]
    },
    {
      "cell_type": "code",
      "source": [
        "!python manage.py makemigrations\n",
        "!python manage.py migrate"
      ],
      "metadata": {
        "colab": {
          "base_uri": "https://localhost:8080/"
        },
        "id": "R0HNfseVbesB",
        "outputId": "ebdbadb0-7dfc-46fe-d7eb-cb298d23f1dc"
      },
      "execution_count": null,
      "outputs": [
        {
          "output_type": "stream",
          "name": "stdout",
          "text": [
            "\u001b[36;1mMigrations for 'mi_app':\u001b[0m\n",
            "  \u001b[1mmi_app/migrations/0001_initial.py\u001b[0m\n",
            "    - Create model Categoria\n",
            "    - Create model Producto\n",
            "    - Create model Cliente\n",
            "\u001b[36;1mOperations to perform:\u001b[0m\n",
            "\u001b[1m  Apply all migrations: \u001b[0madmin, auth, contenttypes, mi_app, sessions\n",
            "\u001b[36;1mRunning migrations:\u001b[0m\n",
            "  Applying mi_app.0001_initial...\u001b[32;1m OK\u001b[0m\n"
          ]
        }
      ]
    },
    {
      "cell_type": "code",
      "source": [
        "!ngrok authtoken 2zvhOmA60tXONdeaY0QKs3XUoJj_7amaXFeWSxiMqZKNacnfh"
      ],
      "metadata": {
        "colab": {
          "base_uri": "https://localhost:8080/"
        },
        "id": "KX3GpAZZRLln",
        "outputId": "979734aa-2aac-4987-cd53-795f1451a98a"
      },
      "execution_count": null,
      "outputs": [
        {
          "output_type": "stream",
          "name": "stdout",
          "text": [
            "Authtoken saved to configuration file: /root/.config/ngrok/ngrok.yml\n"
          ]
        }
      ]
    },
    {
      "cell_type": "code",
      "source": [
        "from pyngrok import ngrok\n",
        "\n",
        "public_url = ngrok.connect(8000)\n",
        "print(\"Link público para tu servidor Django:\", public_url)"
      ],
      "metadata": {
        "colab": {
          "base_uri": "https://localhost:8080/"
        },
        "id": "lzk2yhFwSGyH",
        "outputId": "eee4d2d2-1b1b-4949-b016-f51d935f4015"
      },
      "execution_count": null,
      "outputs": [
        {
          "output_type": "stream",
          "name": "stdout",
          "text": [
            "Link público para tu servidor Django: NgrokTunnel: \"https://15ad7a54a91a.ngrok-free.app\" -> \"http://localhost:8000\"\n"
          ]
        }
      ]
    },
    {
      "cell_type": "code",
      "source": [
        "!python manage.py runserver"
      ],
      "metadata": {
        "colab": {
          "base_uri": "https://localhost:8080/"
        },
        "collapsed": true,
        "id": "nq3rtGVp4wns",
        "outputId": "bf69c279-3dd8-44ad-cdce-2610334d32c5"
      },
      "execution_count": null,
      "outputs": [
        {
          "output_type": "stream",
          "name": "stdout",
          "text": [
            "Watching for file changes with StatReloader\n",
            "Performing system checks...\n",
            "\n",
            "System check identified no issues (0 silenced).\n",
            "August 12, 2025 - 03:59:40\n",
            "Django version 4.2, using settings 'mi_proyecto.settings'\n",
            "Starting development server at http://127.0.0.1:8000/\n",
            "Quit the server with CONTROL-C.\n",
            "\n",
            "[12/Aug/2025 03:59:46] \u001b[m\"GET / HTTP/1.1\" 200 774\u001b[0m\n",
            "Not Found: /favicon.ico\n",
            "[12/Aug/2025 03:59:46] \u001b[33m\"GET /favicon.ico HTTP/1.1\" 404 4085\u001b[0m\n",
            "[12/Aug/2025 03:59:48] \u001b[m\"GET /login/ HTTP/1.1\" 200 1294\u001b[0m\n",
            "[12/Aug/2025 04:00:43] \u001b[m\"POST /login/ HTTP/1.1\" 200 1473\u001b[0m\n",
            "[12/Aug/2025 04:00:53] \u001b[m\"GET /registro/ HTTP/1.1\" 200 1980\u001b[0m\n",
            "[12/Aug/2025 04:01:14] \u001b[m\"GET /registro/ HTTP/1.1\" 200 1980\u001b[0m\n",
            "[12/Aug/2025 04:01:27] \u001b[m\"POST /registro/ HTTP/1.1\" 200 2096\u001b[0m\n",
            "[12/Aug/2025 04:01:45] \u001b[32m\"POST /registro/ HTTP/1.1\" 302 0\u001b[0m\n",
            "[12/Aug/2025 04:01:45] \u001b[m\"GET /login/ HTTP/1.1\" 200 1294\u001b[0m\n",
            "[12/Aug/2025 04:01:48] \u001b[m\"POST /login/ HTTP/1.1\" 200 1473\u001b[0m\n",
            "[12/Aug/2025 04:01:53] \u001b[m\"POST /login/ HTTP/1.1\" 200 1473\u001b[0m\n",
            "[12/Aug/2025 04:01:55] \u001b[32m\"GET /clientes/ HTTP/1.1\" 302 0\u001b[0m\n",
            "[12/Aug/2025 04:01:55] \u001b[m\"GET /login/?next=/clientes/ HTTP/1.1\" 200 1294\u001b[0m\n",
            "[12/Aug/2025 04:01:57] \u001b[32m\"GET /clientes/ HTTP/1.1\" 302 0\u001b[0m\n",
            "[12/Aug/2025 04:01:58] \u001b[m\"GET /login/?next=/clientes/ HTTP/1.1\" 200 1294\u001b[0m\n",
            "[12/Aug/2025 04:01:59] \u001b[m\"POST /login/?next=/clientes/ HTTP/1.1\" 200 1473\u001b[0m\n",
            "[12/Aug/2025 04:02:04] \u001b[32m\"GET /clientes/ HTTP/1.1\" 302 0\u001b[0m\n",
            "[12/Aug/2025 04:02:04] \u001b[m\"GET /login/?next=/clientes/ HTTP/1.1\" 200 1294\u001b[0m\n",
            "[12/Aug/2025 04:02:05] \u001b[32m\"GET /productos/ HTTP/1.1\" 302 0\u001b[0m\n",
            "[12/Aug/2025 04:02:05] \u001b[m\"GET /login/?next=/productos/ HTTP/1.1\" 200 1294\u001b[0m\n",
            "[12/Aug/2025 04:02:07] \u001b[m\"POST /login/?next=/productos/ HTTP/1.1\" 200 1473\u001b[0m\n"
          ]
        }
      ]
    }
  ]
}